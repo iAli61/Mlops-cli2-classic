{
  "cells": [
    {
      "cell_type": "code",
      "source": [
        "from qlib.tests.data import GetData"
      ],
      "outputs": [],
      "execution_count": 1,
      "metadata": {}
    },
    {
      "cell_type": "code",
      "source": [
        "GetData().qlib_data(exists_skip=True, target_dir=\"~/.qlib/qlib_data/us_data\", delete_old=False, interval='1d', region='us')"
      ],
      "outputs": [
        {
          "output_type": "stream",
          "name": "stderr",
          "text": "2023-01-03 14:56:20.728 | WARNING  | qlib.tests.data:_download_data:57 - The data for the example is collected from Yahoo Finance. Please be aware that the quality of the data might not be perfect. (You can refer to the original data source: https://finance.yahoo.com/lookup.)\n2023-01-03 14:56:20.729 | INFO     | qlib.tests.data:_download_data:59 - qlib_data_us_1d_latest.zip downloading......\n450095104it [00:40, 11200985.92it/s]                                                                                                                                                                                                                                                                                                                                                                                                                                                                                                                                                                                                                                                                                                                                                                                                                                                                                                                                                                                                   \n2023-01-03 14:57:00.915 | INFO     | qlib.tests.data:_unzip:85 - /home/azureuser/.qlib/qlib_data/us_data/20230103145620_qlib_data_us_1d_latest.zip unzipping......\n100%|██████████████████████████████████████████████████████████████████████████████████████████████████████████████████████████████████████████████████████████████████████████████████████████████████████████████████████████████████████████████████████████████████████████████████████████████████████████████████████████████████████████████████████████████████████████████████████████████████████████████████████████████████████████████████████████████████████████████████████████████████████████████████████████████████████████████████████████████████████████████████████████████████████████████████████████████████████████████████████████████████████████████████████████████████████████████████████████████████████████████████████████████████████████████████████████████████████████████████████████████████████████████████████████████████████████████████████████████████████████████████████████████████████████████████████████████████████████████████████████| 71959/71959 [00:11<00:00, 6018.12it/s]\n"
        }
      ],
      "execution_count": 6,
      "metadata": {}
    },
    {
      "cell_type": "code",
      "source": [
        "\n",
        "GetData().qlib_data(exists_skip=True, target_dir=\"~/.qlib/qlib_data/cn_data\", delete_old=False, interval='1d', region='cn')"
      ],
      "outputs": [
        {
          "output_type": "stream",
          "name": "stderr",
          "text": "2023-01-03 15:05:42.668 | WARNING  | qlib.tests.data:_download_data:57 - The data for the example is collected from Yahoo Finance. Please be aware that the quality of the data might not be perfect. (You can refer to the original data source: https://finance.yahoo.com/lookup.)\n2023-01-03 15:05:42.669 | INFO     | qlib.tests.data:_download_data:59 - qlib_data_cn_1d_latest.zip downloading......\n196549632it [00:11, 17637394.08it/s]                                                                                                                                                                                                                                                                                                                                                                                                                                                                                                                                                                                                                                                                                                                                                                                                                                                                                                                                                                                                   \n2023-01-03 15:05:53.816 | INFO     | qlib.tests.data:_unzip:85 - /home/azureuser/.qlib/qlib_data/cn_data/20230103150542_qlib_data_cn_1d_latest.zip unzipping......\n100%|██████████████████████████████████████████████████████████████████████████████████████████████████████████████████████████████████████████████████████████████████████████████████████████████████████████████████████████████████████████████████████████████████████████████████████████████████████████████████████████████████████████████████████████████████████████████████████████████████████████████████████████████████████████████████████████████████████████████████████████████████████████████████████████████████████████████████████████████████████████████████████████████████████████████████████████████████████████████████████████████████████████████████████████████████████████████████████████████████████████████████████████████████████████████████████████████████████████████████████████████████████████████████████████████████████████████████████████████████████████████████████████████████████████████████████████████████████████████████████████| 31008/31008 [00:04<00:00, 6363.93it/s]\n"
        }
      ],
      "execution_count": 7,
      "metadata": {}
    },
    {
      "cell_type": "code",
      "source": [
        "GetData().qlib_data(exists_skip=True, target_dir=\"~/.qlib/qlib_data/cn_data_1min\", delete_old=False, interval='1min', region='cn')"
      ],
      "outputs": [
        {
          "output_type": "stream",
          "name": "stderr",
          "text": "2023-01-03 14:42:58.597 | WARNING  | qlib.tests.data:_download_data:57 - The data for the example is collected from Yahoo Finance. Please be aware that the quality of the data might not be perfect. (You can refer to the original data source: https://finance.yahoo.com/lookup.)\n2023-01-03 14:42:58.598 | INFO     | qlib.tests.data:_download_data:59 - qlib_data_cn_1min_latest.zip downloading......\n1377925120it [03:01, 7597992.93it/s]                                                                                                                                                                                                                                                                                                                                                                                                                                                                                                                                                                                                                                                                                                                                                                                                                                                                                                                                                                                                   \n2023-01-03 14:45:59.954 | INFO     | qlib.tests.data:_unzip:85 - /home/azureuser/.qlib/qlib_data/cn_data_1min/20230103144258_qlib_data_cn_1min_latest.zip unzipping......\n100%|██████████████████████████████████████████████████████████████████████████████████████████████████████████████████████████████████████████████████████████████████████████████████████████████████████████████████████████████████████████████████████████████████████████████████████████████████████████████████████████████████████████████████████████████████████████████████████████████████████████████████████████████████████████████████████████████████████████████████████████████████████████████████████████████████████████████████████████████████████████████████████████████████████████████████████████████████████████████████████████████████████████████████████████████████████████████████████████████████████████████████████████████████████████████████████████████████████████████████████████████████████████████████████████████████████████████████████████████████████████████████████████████████████████████████████████████████████████████████████████| 40677/40677 [00:26<00:00, 1518.39it/s]\n"
        }
      ],
      "execution_count": 5,
      "metadata": {}
    },
    {
      "cell_type": "code",
      "source": [],
      "outputs": [],
      "execution_count": null,
      "metadata": {}
    }
  ],
  "metadata": {
    "kernelspec": {
      "name": "python3",
      "language": "python",
      "display_name": "Python 3 (ipykernel)"
    },
    "language_info": {
      "name": "python",
      "version": "3.8.5",
      "mimetype": "text/x-python",
      "codemirror_mode": {
        "name": "ipython",
        "version": 3
      },
      "pygments_lexer": "ipython3",
      "nbconvert_exporter": "python",
      "file_extension": ".py"
    },
    "orig_nbformat": 4,
    "vscode": {
      "interpreter": {
        "hash": "9f3b5fb8e8d5dc90f82e3f6778c106ee6467cc20da9bb1020b5766ee0117c7a6"
      }
    },
    "kernel_info": {
      "name": "python3"
    },
    "nteract": {
      "version": "nteract-front-end@1.0.0"
    }
  },
  "nbformat": 4,
  "nbformat_minor": 2
}